{
 "cells": [
  {
   "cell_type": "markdown",
   "metadata": {},
   "source": [
    "## Python Object-Oriented Programmering (OOP)"
   ]
  },
  {
   "cell_type": "markdown",
   "metadata": {},
   "source": [
    "## Introduction to OOP\n",
    "\n",
    "Objektorienteret programmering er en programmeringsparadigme, der anvender \"objekter\" – datastrukturer bestående af datafelter og metoder sammen med deres interaktioner – til at designe applikationer og programmer. Python støtter OOP og tilbyder en nem måde at oprette og håndtere klasser og objekter på.\n",
    "\n",
    "Fordele ved OOP:\n",
    "\n",
    "- Modulær kode, der er lettere at vedligeholde og fejlfinde\n",
    "- Genbrug af kode gennem arv\n",
    "- Realisering af real-world entiteter"
   ]
  },
  {
   "cell_type": "markdown",
   "metadata": {},
   "source": [
    "### Creating Classes and Instances\n",
    "I Python defineres en klasse som en skabelon for at skabe objekter (en bestemt datastruktur), der indeholder både data (i form af variabler, kendt som attributter) og funktioner (kendt som metoder).\n",
    "\n",
    "Eksempel på klasse og instanser:"
   ]
  },
  {
   "cell_type": "code",
   "execution_count": 10,
   "metadata": {},
   "outputs": [
    {
     "name": "stdout",
     "output_type": "stream",
     "text": [
      "Toyota Corolla 2020\n",
      "Honda Civic 2018\n"
     ]
    }
   ],
   "source": [
    "class Car:\n",
    "    def __init__(self, make, model, year):\n",
    "        self.make = make\n",
    "        self.model = model\n",
    "        self.year = year\n",
    "\n",
    "car1 = Car(\"Toyota\", \"Corolla\", 2020)\n",
    "car2 = Car(\"Honda\", \"Civic\", 2018)\n",
    "\n",
    "print(f'{car1.make} {car1.model} {car1.year}')\n",
    "print(f'{car2.make} {car2.model} {car2.year}')\n"
   ]
  },
  {
   "cell_type": "markdown",
   "metadata": {},
   "source": [
    "### Class Variables \n",
    "\n",
    "Klassevariabler er variabler, der deles blandt alle instanser af en klasse. De er nyttige, når data skal deles på tværs af alle objekter af en klasse.\n",
    "\n",
    "Eksempel på brug af klassevariabler:"
   ]
  },
  {
   "cell_type": "code",
   "execution_count": 11,
   "metadata": {},
   "outputs": [
    {
     "name": "stdout",
     "output_type": "stream",
     "text": [
      "Buddy Canis familiaris\n",
      "Lucy Canis familiaris\n"
     ]
    }
   ],
   "source": [
    "class Dog:\n",
    "    species = \"Canis familiaris\"\n",
    "\n",
    "    def __init__(self, name, age):\n",
    "        self.name = name\n",
    "        self.age = age\n",
    "\n",
    "\n",
    "dog1 = Dog(\"Buddy\", 5)\n",
    "dog2 = Dog(\"Lucy\", 3)\n",
    "\n",
    "print(dog1.name, dog1.species)\n",
    "print(dog2.name, dog2.species)\n"
   ]
  },
  {
   "cell_type": "markdown",
   "metadata": {},
   "source": [
    "### Inheritance og Polymorphism"
   ]
  },
  {
   "cell_type": "code",
   "execution_count": 3,
   "metadata": {},
   "outputs": [
    {
     "name": "stdout",
     "output_type": "stream",
     "text": [
      "Woof!\n",
      "Meow!\n"
     ]
    }
   ],
   "source": [
    "# Inheritance and Polymorphism example\n",
    "class Animal:\n",
    "    def speak(self):\n",
    "        return \"Animal speaks\"\n",
    "\n",
    "class Dog(Animal):\n",
    "    def speak(self):\n",
    "        return \"Woof!\"\n",
    "\n",
    "class Cat(Animal):\n",
    "    def speak(self):\n",
    "        return \"Meow!\"\n",
    "\n",
    "def animal_speak(animal):\n",
    "    print(animal.speak())\n",
    "\n",
    "dog = Dog()\n",
    "cat = Cat()\n",
    "\n",
    "animal_speak(dog) \n",
    "animal_speak(cat)  "
   ]
  },
  {
   "cell_type": "markdown",
   "metadata": {},
   "source": [
    "### Initializer Method\n",
    "\n",
    "Initializer-metoden (__init__) i en klasse i Python er en speciel metode, der kaldes, når en ny klasseinstans oprettes. Den bruges til at initialisere attributterne i en ny instans af klassen."
   ]
  },
  {
   "cell_type": "code",
   "execution_count": 12,
   "metadata": {},
   "outputs": [
    {
     "name": "stdout",
     "output_type": "stream",
     "text": [
      "blue carbon fiber\n"
     ]
    }
   ],
   "source": [
    "class Bicycle:\n",
    "    def __init__(self, color, frame_material):\n",
    "        self.color = color\n",
    "        self.frame_material = frame_material\n",
    "\n",
    "bike = Bicycle(\"blue\", \"carbon fiber\")\n",
    "print(bike.color, bike.frame_material)\n"
   ]
  },
  {
   "cell_type": "markdown",
   "metadata": {},
   "source": [
    "### Properties\n",
    "\n",
    "Properties giver mulighed for at tilføje kontrol over adgang til attributter. De bruges typisk til at validere værdier, før de tildeles en attribut, eller til at udføre handlinger, når en attributs værdi læses eller ændres."
   ]
  },
  {
   "cell_type": "code",
   "execution_count": 13,
   "metadata": {},
   "outputs": [
    {
     "name": "stdout",
     "output_type": "stream",
     "text": [
      "Alice 30\n",
      "Bob 25\n"
     ]
    }
   ],
   "source": [
    "class Person:\n",
    "    def __init__(self, name, age):\n",
    "        self._name = name\n",
    "        self._age = age\n",
    "\n",
    "    @property\n",
    "    def name(self):\n",
    "        return self._name\n",
    "\n",
    "    @name.setter\n",
    "    def name(self, value):\n",
    "        if not value:\n",
    "            raise ValueError(\"Name cannot be empty\")\n",
    "        self._name = value\n",
    "\n",
    "    @property\n",
    "    def age(self):\n",
    "        return self._age\n",
    "\n",
    "    @age.setter\n",
    "    def age(self, value):\n",
    "        if value < 0:\n",
    "            raise ValueError(\"Age cannot be negative\")\n",
    "        self._age = value\n",
    "\n",
    "person = Person(\"Alice\", 30)\n",
    "print(person.name, person.age)\n",
    "\n",
    "person.name = \"Bob\"\n",
    "person.age = 25\n",
    "print(person.name, person.age)\n",
    "\n",
    "# Un-commenting the following line will raise an error\n",
    "# person.age = -1"
   ]
  },
  {
   "cell_type": "markdown",
   "metadata": {},
   "source": [
    "### Magic Methods\n",
    "\n",
    "Magic methods, også kendt som dunder methods (double underscore), er specielle metoder, der giver dig mulighed for at definere adfærd for dine objekter for specifikke Python-operationer. Eksempler inkluderer __str__ for string repræsentation og __add__ for tilføjelse af objekter."
   ]
  },
  {
   "cell_type": "code",
   "execution_count": 14,
   "metadata": {},
   "outputs": [
    {
     "name": "stdout",
     "output_type": "stream",
     "text": [
      "Number(1)\n",
      "Number(2)\n",
      "Number(3)\n",
      "True\n",
      "False\n"
     ]
    }
   ],
   "source": [
    "class Number:\n",
    "    def __init__(self, value):\n",
    "        self.value = value\n",
    "\n",
    "    def __str__(self):\n",
    "        return f'Number({self.value})'\n",
    "\n",
    "    def __add__(self, other):\n",
    "        return Number(self.value + other.value)\n",
    "\n",
    "    def __eq__(self, other):\n",
    "        return self.value == other.value\n",
    "\n",
    "# Creating Number instances\n",
    "n1 = Number(1)\n",
    "n2 = Number(2)\n",
    "n3 = n1 + n2\n",
    "n4 = Number(1)\n",
    "\n",
    "# Printing the numbers\n",
    "print(n1)  # Output: Number(1)\n",
    "print(n2)  # Output: Number(2)\n",
    "print(n3)  # Output: Number(3)\n",
    "\n",
    "# Checking equality\n",
    "print(n1 == n4)  # Output: True\n",
    "print(n1 == n2)  # Output: False\n"
   ]
  },
  {
   "cell_type": "markdown",
   "metadata": {},
   "source": [
    "### Derfor er OOP bedre\n",
    "\n",
    "Klasser tilbyder en måde at gruppere data og funktionalitet sammen. Ved at bruge klasser kan komplekse systemer opdeles i håndterbare dele. I modsætning til den proceduremæssige stil, hvor data og funktioner er adskilt, gør OOP det lettere at holde styr på store softwareprojekter ved at simulere den virkelige verden mere naturligt.\n",
    "\n",
    "Dette grundlag giver dig et godt udgangspunkt for at forklare og demonstrere grundlæggende principper for objektorienteret programmering i Python i din Jupyter Notebook."
   ]
  }
 ],
 "metadata": {
  "kernelspec": {
   "display_name": ".venv",
   "language": "python",
   "name": "python3"
  },
  "language_info": {
   "codemirror_mode": {
    "name": "ipython",
    "version": 3
   },
   "file_extension": ".py",
   "mimetype": "text/x-python",
   "name": "python",
   "nbconvert_exporter": "python",
   "pygments_lexer": "ipython3",
   "version": "3.10.13"
  }
 },
 "nbformat": 4,
 "nbformat_minor": 2
}
