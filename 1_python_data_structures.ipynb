{
 "cells": [
  {
   "cell_type": "markdown",
   "metadata": {},
   "source": [
    "## Python Data Structures"
   ]
  },
  {
   "cell_type": "markdown",
   "metadata": {},
   "source": [
    "### Lister\n",
    "Lister er ordnede samlinger af elementer og kan indeholde duplikater. De er meget fleksible, da de tillader ændring af elementerne (de er mutable).\n",
    "\n",
    "Lister i Python er ordnede samlinger, som er mutable, hvilket betyder, at de kan ændres efter de er oprettet. Lister er meget alsidige og anvendes ofte til at opbevare sekvenser af elementer, som skal tilgås, modificeres eller manipuleres sekventielt.\n",
    "\n",
    "Eksempler på anvendelse:\n",
    "\n",
    "- Gemme en sekvens af elementer\n",
    "- Udføre iteration over elementer\n",
    "- Sortering og omorganisering af data\n"
   ]
  },
  {
   "cell_type": "code",
   "execution_count": 2,
   "metadata": {},
   "outputs": [
    {
     "name": "stdout",
     "output_type": "stream",
     "text": [
      "Original liste: ['apple', 'banana', 'cherry']\n",
      "Liste efter tilføjelse: ['apple', 'banana', 'cherry', 'orange']\n",
      "Liste efter fjernelse: ['apple', 'cherry', 'orange']\n"
     ]
    }
   ],
   "source": [
    "fruits = [\"apple\", \"banana\", \"cherry\"]\n",
    "print(\"Original liste:\", fruits)\n",
    "\n",
    "fruits.append(\"orange\")\n",
    "print(\"Liste efter tilføjelse:\", fruits)\n",
    "\n",
    "fruits.remove(\"banana\")\n",
    "print(\"Liste efter fjernelse:\", fruits)\n"
   ]
  },
  {
   "cell_type": "markdown",
   "metadata": {},
   "source": [
    "### Tuple\n",
    "\n",
    "Tupler i Python er som lister ordnede samlinger, men de er immutable. Det betyder, at når de først er oprettet, kan de ikke ændres. Dette er nyttigt, når du har brug for en konstant liste af elementer, som ikke skal ændres gennem dit program.\n",
    "\n",
    "Eksempler på anvendelse:\n",
    "\n",
    "- Lagring af konstante data\n",
    "- Hurtigere iteration sammenlignet med lister\n",
    "- Kan bruges som nøgler i dictionaries, hvor lister ikke kan\n"
   ]
  },
  {
   "cell_type": "code",
   "execution_count": 3,
   "metadata": {},
   "outputs": [
    {
     "name": "stdout",
     "output_type": "stream",
     "text": [
      "Original tuple: ('red', 'green', 'blue')\n"
     ]
    },
    {
     "ename": "TypeError",
     "evalue": "'tuple' object does not support item assignment",
     "output_type": "error",
     "traceback": [
      "\u001b[1;31m---------------------------------------------------------------------------\u001b[0m",
      "\u001b[1;31mTypeError\u001b[0m                                 Traceback (most recent call last)",
      "Cell \u001b[1;32mIn[3], line 4\u001b[0m\n\u001b[0;32m      1\u001b[0m colors \u001b[38;5;241m=\u001b[39m (\u001b[38;5;124m\"\u001b[39m\u001b[38;5;124mred\u001b[39m\u001b[38;5;124m\"\u001b[39m, \u001b[38;5;124m\"\u001b[39m\u001b[38;5;124mgreen\u001b[39m\u001b[38;5;124m\"\u001b[39m, \u001b[38;5;124m\"\u001b[39m\u001b[38;5;124mblue\u001b[39m\u001b[38;5;124m\"\u001b[39m)\n\u001b[0;32m      2\u001b[0m \u001b[38;5;28mprint\u001b[39m(\u001b[38;5;124m\"\u001b[39m\u001b[38;5;124mOriginal tuple:\u001b[39m\u001b[38;5;124m\"\u001b[39m, colors)\n\u001b[1;32m----> 4\u001b[0m \u001b[43mcolors\u001b[49m\u001b[43m[\u001b[49m\u001b[38;5;241;43m0\u001b[39;49m\u001b[43m]\u001b[49m \u001b[38;5;241m=\u001b[39m \u001b[38;5;124m\"\u001b[39m\u001b[38;5;124myellow\u001b[39m\u001b[38;5;124m\"\u001b[39m\n\u001b[0;32m      6\u001b[0m \u001b[38;5;66;03m#try:\u001b[39;00m\n\u001b[0;32m      7\u001b[0m  \u001b[38;5;66;03m#   colors[0] = \"yellow\"\u001b[39;00m\n\u001b[0;32m      8\u001b[0m \u001b[38;5;66;03m#except TypeError as e:\u001b[39;00m\n\u001b[0;32m      9\u001b[0m  \u001b[38;5;66;03m#   print(e)\u001b[39;00m\n",
      "\u001b[1;31mTypeError\u001b[0m: 'tuple' object does not support item assignment"
     ]
    }
   ],
   "source": [
    "colors = (\"red\", \"green\", \"blue\")\n",
    "print(\"Original tuple:\", colors)\n",
    "\n",
    "colors[0] = \"yellow\"\n",
    "\n",
    "#try:\n",
    " #   colors[0] = \"yellow\"\n",
    "#except TypeError as e:\n",
    " #   print(e)\n"
   ]
  },
  {
   "cell_type": "markdown",
   "metadata": {},
   "source": [
    "### Set\n",
    "\n",
    "Mængder i Python er uordnede samlinger af unikke elementer. De bruges, når det er nødvendigt at sikre, at ingen dubletter eksisterer i samlingen og for effektivt at udføre visse operationer som f.eks. union, discard, og difference.\n",
    "\n",
    "Eksempler på anvendelse:\n",
    "\n",
    "- Fjerne dubletter fra en samling\n",
    "- Udføre matematiske mængdeoperationer\n",
    "- Test for medlemskab hurtigt"
   ]
  },
  {
   "cell_type": "code",
   "execution_count": null,
   "metadata": {},
   "outputs": [],
   "source": [
    "animals = {\"cat\", \"dog\", \"fish\"}\n",
    "print(\"Original set:\", animals)\n",
    "\n",
    "animals2 = {\"cat\", \"dog\", \"fish\", \"tiger\", \"lion\"}\n",
    "\n",
    "animals.add(\"bird\")\n",
    "print(\"Set efter tilføjelse:\", animals)\n",
    "\n",
    "animals.remove(\"dog\")\n",
    "print(\"Set efter fjernelse:\", animals)\n",
    "\n",
    "union_set = animals.union(animals2)\n",
    "print(\"union list after function call: \", union_set)\n",
    "\n",
    "animals.discard(\"snake\")\n",
    "\n",
    "difference_set = animals.difference(animals2)\n",
    "print(\"difference set efter function call: \", difference_set)\n",
    "\n"
   ]
  },
  {
   "cell_type": "markdown",
   "metadata": {},
   "source": [
    "### Dictionary\n",
    "\n",
    "Ordbøger i Python er samlinger af nøgle-værdi-par, hvor hver nøgle er unik. Dictionaries er ideelle til tilfælde, hvor du skal tilknytte specifikke værdier med specifikke nøgler.\n",
    "\n",
    "Eksempler på anvendelse:\n",
    "\n",
    "- Opbevaring af data, der nemt kan hentes via en unik nøgle\n",
    "- Implementering af sparsomme datastrukturer\n",
    "- Hurtig opslag\n"
   ]
  },
  {
   "cell_type": "code",
   "execution_count": null,
   "metadata": {},
   "outputs": [],
   "source": [
    "person = {\"name\": \"John\", \"age\": 30, \"city\": \"New York\"}\n",
    "print(\"Original dictionary:\", person)\n",
    "\n",
    "person[\"job\"] = \"Developer\"\n",
    "print(\"Dictionary efter tilføjelse:\", person)\n",
    "\n",
    "del person[\"age\"]\n",
    "print(\"Dictionary efter fjernelse:\", person)\n"
   ]
  }
 ],
 "metadata": {
  "kernelspec": {
   "display_name": ".venv",
   "language": "python",
   "name": "python3"
  },
  "language_info": {
   "codemirror_mode": {
    "name": "ipython",
    "version": 3
   },
   "file_extension": ".py",
   "mimetype": "text/x-python",
   "name": "python",
   "nbconvert_exporter": "python",
   "pygments_lexer": "ipython3",
   "version": "3.11.4"
  }
 },
 "nbformat": 4,
 "nbformat_minor": 2
}
