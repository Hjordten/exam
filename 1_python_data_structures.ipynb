{
 "cells": [
  {
   "cell_type": "markdown",
   "metadata": {},
   "source": [
    "### Lister\n",
    "Lister er ordnede samlinger af elementer og kan indeholde duplikater. De er meget fleksible, da de tillader ændring af elementerne (de er mutable).\n",
    "\n",
    "Lister i Python er ordnede samlinger, som er mutable, hvilket betyder, at de kan ændres efter de er oprettet. Lister er meget alsidige og anvendes ofte til at opbevare sekvenser af elementer, som skal tilgås, modificeres eller manipuleres sekventielt.\n",
    "\n",
    "Eksempler på anvendelse:\n",
    "\n",
    "- Gemme en sekvens af elementer\n",
    "- Udføre iteration over elementer\n",
    "- Sortering og omorganisering af data\n"
   ]
  },
  {
   "cell_type": "markdown",
   "metadata": {},
   "source": []
  },
  {
   "cell_type": "code",
   "execution_count": null,
   "metadata": {
    "vscode": {
     "languageId": "plaintext"
    }
   },
   "outputs": [],
   "source": [
    "# Opret en liste\n",
    "fruits = [\"apple\", \"banana\", \"cherry\"]\n",
    "print(\"Original liste:\", fruits)\n",
    "\n",
    "# Tilføj et element\n",
    "fruits.append(\"orange\")\n",
    "print(\"Liste efter tilføjelse:\", fruits)\n",
    "\n",
    "# Fjern et element\n",
    "fruits.remove(\"banana\")\n",
    "print(\"Liste efter fjernelse:\", fruits)\n"
   ]
  }
 ],
 "metadata": {
  "language_info": {
   "name": "python"
  }
 },
 "nbformat": 4,
 "nbformat_minor": 2
}
