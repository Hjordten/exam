{
 "cells": [
  {
   "cell_type": "markdown",
   "metadata": {},
   "source": [
    "### Lister\n",
    "Lister er ordnede samlinger af elementer og kan indeholde duplikater. De er meget fleksible, da de tillader ændring af elementerne (de er mutable).\n",
    "\n",
    "Lister i Python er ordnede samlinger, som er mutable, hvilket betyder, at de kan ændres efter de er oprettet. Lister er meget alsidige og anvendes ofte til at opbevare sekvenser af elementer, som skal tilgås, modificeres eller manipuleres sekventielt.\n",
    "\n",
    "Eksempler på anvendelse:\n",
    "\n",
    "- Gemme en sekvens af elementer\n",
    "- Udføre iteration over elementer\n",
    "- Sortering og omorganisering af data\n"
   ]
  },
  {
   "cell_type": "code",
   "execution_count": null,
   "metadata": {},
   "outputs": [],
   "source": [
    "# Opret en liste\n",
    "fruits = [\"apple\", \"banana\", \"cherry\"]\n",
    "print(\"Original liste:\", fruits)\n",
    "\n",
    "# Tilføj et element\n",
    "fruits.append(\"orange\")\n",
    "print(\"Liste efter tilføjelse:\", fruits)\n",
    "\n",
    "# Fjern et element\n",
    "fruits.remove(\"banana\")\n",
    "print(\"Liste efter fjernelse:\", fruits)\n"
   ]
  },
  {
   "cell_type": "markdown",
   "metadata": {},
   "source": [
    "### Tuple\n",
    "\n",
    "Tupler i Python er som lister ordnede samlinger, men de er immutable. Det betyder, at når de først er oprettet, kan de ikke ændres. Dette er nyttigt, når du har brug for en konstant liste af elementer, som ikke skal ændres gennem dit program.\n",
    "\n",
    "Eksempler på anvendelse:\n",
    "\n",
    "- Lagring af konstante data\n",
    "- Hurtigere iteration sammenlignet med lister\n",
    "- Kan bruges som nøgler i dictionaries, hvor lister ikke kan\n"
   ]
  },
  {
   "cell_type": "code",
   "execution_count": null,
   "metadata": {},
   "outputs": [],
   "source": [
    "# Opret en tuple\n",
    "colors = (\"red\", \"green\", \"blue\")\n",
    "print(\"Original tuple:\", colors)\n",
    "\n",
    "# Prøv at ændre et element (dette vil give en fejl)\n",
    "\n",
    "colors[0] = \"yellow\"\n",
    "\n",
    "#try:\n",
    " #   colors[0] = \"yellow\"\n",
    "#except TypeError as e:\n",
    " #   print(e)\n"
   ]
  },
  {
   "cell_type": "markdown",
   "metadata": {},
   "source": [
    "### Set\n",
    "\n",
    "Mængder i Python er uordnede samlinger af unikke elementer. De bruges, når det er nødvendigt at sikre, at ingen dubletter eksisterer i samlingen og for effektivt at udføre visse operationer som f.eks. union, discard, og difference.\n",
    "\n",
    "Eksempler på anvendelse:\n",
    "\n",
    "- Fjerne dubletter fra en samling\n",
    "- Udføre matematiske mængdeoperationer\n",
    "- Test for medlemskab hurtigt"
   ]
  },
  {
   "cell_type": "code",
   "execution_count": 8,
   "metadata": {},
   "outputs": [
    {
     "name": "stdout",
     "output_type": "stream",
     "text": [
      "Original set: {'cat', 'dog', 'fish'}\n",
      "Set efter tilføjelse: {'cat', 'dog', 'bird', 'fish'}\n",
      "union list after function call:  {'cat', 'dog', 'lion', 'tiger', 'bird', 'fish'}\n",
      "difference set efter function call:  {'bird'}\n"
     ]
    }
   ],
   "source": [
    "# Opret et set\n",
    "animals = {\"cat\", \"dog\", \"fish\"}\n",
    "print(\"Original set:\", animals)\n",
    "\n",
    "animals2 = {\"cat\", \"dog\", \"fish\", \"tiger\", \"lion\"}\n",
    "\n",
    "# Tilføj et element\n",
    "animals.add(\"bird\")\n",
    "print(\"Set efter tilføjelse:\", animals)\n",
    "\n",
    "# Fjern et element, raiser en error hvis elementet ikke findes\n",
    "animals.remove(\"dog\")\n",
    "print(\"Set efter fjernelse:\", animals)\n",
    "\n",
    "# Union laver to set om til et, og fjerner alle duplikater\n",
    "union_set = animals.union(animals2)\n",
    "print(\"union list after function call: \", union_set)\n",
    "\n",
    "# Discard fjerner et element ligesom .remove gør. Men .discard raiser\n",
    "# ikke nogen errors hvis elementet man prøver at fjerne ikke eksistere i settet\n",
    "animals.discard(\"snake\")\n",
    "\n",
    "# Difference returnerr et set, som indeholder forskellen på de to sammenlignet sets\n",
    "difference_set = animals.difference(animals2)\n",
    "print(\"difference set efter function call: \", difference_set)\n",
    "\n"
   ]
  },
  {
   "cell_type": "markdown",
   "metadata": {},
   "source": [
    "### Dictionary\n",
    "\n",
    "Ordbøger i Python er samlinger af nøgle-værdi-par, hvor hver nøgle er unik. Dictionaries er ideelle til tilfælde, hvor du skal tilknytte specifikke værdier med specifikke nøgler.\n",
    "\n",
    "Eksempler på anvendelse:\n",
    "\n",
    "- Opbevaring af data, der nemt kan hentes via en unik nøgle\n",
    "- Implementering af sparsomme datastrukturer\n",
    "- Hurtig opslag\n"
   ]
  },
  {
   "cell_type": "code",
   "execution_count": 9,
   "metadata": {},
   "outputs": [
    {
     "name": "stdout",
     "output_type": "stream",
     "text": [
      "Original dictionary: {'name': 'John', 'age': 30, 'city': 'New York'}\n",
      "Dictionary efter tilføjelse: {'name': 'John', 'age': 30, 'city': 'New York', 'job': 'Developer'}\n",
      "Dictionary efter fjernelse: {'name': 'John', 'city': 'New York', 'job': 'Developer'}\n"
     ]
    }
   ],
   "source": [
    "# Opret et dictionary\n",
    "person = {\"name\": \"John\", \"age\": 30, \"city\": \"New York\"}\n",
    "print(\"Original dictionary:\", person)\n",
    "\n",
    "# Tilføj et nøgle-værdi par\n",
    "person[\"job\"] = \"Developer\"\n",
    "print(\"Dictionary efter tilføjelse:\", person)\n",
    "\n",
    "# Fjern et nøgle-værdi par\n",
    "del person[\"age\"]\n",
    "print(\"Dictionary efter fjernelse:\", person)\n"
   ]
  }
 ],
 "metadata": {
  "kernelspec": {
   "display_name": ".venv",
   "language": "python",
   "name": "python3"
  },
  "language_info": {
   "codemirror_mode": {
    "name": "ipython",
    "version": 3
   },
   "file_extension": ".py",
   "mimetype": "text/x-python",
   "name": "python",
   "nbconvert_exporter": "python",
   "pygments_lexer": "ipython3",
   "version": "3.11.4"
  }
 },
 "nbformat": 4,
 "nbformat_minor": 2
}
