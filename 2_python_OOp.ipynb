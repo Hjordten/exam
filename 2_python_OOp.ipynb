{
 "cells": [
  {
   "cell_type": "markdown",
   "metadata": {},
   "source": [
    "## Python Object-Oriented Programmering (OOP)"
   ]
  },
  {
   "cell_type": "markdown",
   "metadata": {},
   "source": [
    "## Introduction to OOP\n",
    "\n",
    "Objektorienteret programmering er en programmeringsparadigme, der anvender \"objekter\" – datastrukturer bestående af datafelter og metoder sammen med deres interaktioner – til at designe applikationer og programmer. Python støtter OOP og tilbyder en nem måde at oprette og håndtere klasser og objekter på.\n",
    "\n",
    "Fordele ved OOP:\n",
    "\n",
    "- Modulær kode, der er lettere at vedligeholde og fejlfinde\n",
    "- Genbrug af kode gennem arv\n",
    "- Realisering af real-world entiteter"
   ]
  },
  {
   "cell_type": "markdown",
   "metadata": {},
   "source": [
    "### Creating Classes and Instances\n",
    "I Python defineres en klasse som en skabelon for at skabe objekter (en bestemt datastruktur), der indeholder både data (i form af variabler, kendt som attributter) og funktioner (kendt som metoder).\n",
    "\n",
    "Eksempel på klasse og instanser:"
   ]
  },
  {
   "cell_type": "code",
   "execution_count": null,
   "metadata": {},
   "outputs": [],
   "source": [
    "class Car:\n",
    "    def __init__(self, make, model, year):\n",
    "        self.make = make\n",
    "        self.model = model\n",
    "        self.year = year\n",
    "\n",
    "car1 = Car(\"Toyota\", \"Corolla\", 2020)\n",
    "car2 = Car(\"Honda\", \"Civic\", 2018)\n",
    "\n",
    "print(f'{car1.make} {car1.model} {car1.year}')\n",
    "print(f'{car2.make} {car2.model} {car2.year}')\n"
   ]
  },
  {
   "cell_type": "markdown",
   "metadata": {},
   "source": [
    "### Class Variables \n",
    "\n",
    "Klassevariabler er variabler, der deles blandt alle instanser af en klasse. De er nyttige, når data skal deles på tværs af alle objekter af en klasse.\n",
    "\n",
    "Eksempel på brug af klassevariabler:"
   ]
  },
  {
   "cell_type": "code",
   "execution_count": 6,
   "metadata": {},
   "outputs": [
    {
     "name": "stdout",
     "output_type": "stream",
     "text": [
      "Buddy Canis familiaris\n",
      "Lucy Canis familiaris\n"
     ]
    }
   ],
   "source": [
    "class Dog:\n",
    "    species = \"Canis familiaris\"\n",
    "\n",
    "    def __init__(self, name, age):\n",
    "        self.name = name\n",
    "        self.age = age\n",
    "\n",
    "\n",
    "dog1 = Dog(\"Buddy\", 5)\n",
    "dog2 = Dog(\"Lucy\", 3)\n",
    "\n",
    "print(dog1.name, dog1.species)\n",
    "print(dog2.name, dog2.species)\n"
   ]
  },
  {
   "cell_type": "markdown",
   "metadata": {},
   "source": [
    "### Initializer Method\n",
    "\n",
    "Initializer-metoden (__init__) i en klasse i Python er en speciel metode, der kaldes, når en ny klasseinstans oprettes. Den bruges til at initialisere attributterne i en ny instans af klassen."
   ]
  },
  {
   "cell_type": "code",
   "execution_count": 4,
   "metadata": {},
   "outputs": [
    {
     "name": "stdout",
     "output_type": "stream",
     "text": [
      "blue carbon fiber\n"
     ]
    }
   ],
   "source": [
    "class Bicycle:\n",
    "    def __init__(self, color, frame_material):\n",
    "        self.color = color\n",
    "        self.frame_material = frame_material\n",
    "\n",
    "bike = Bicycle(\"blue\", \"carbon fiber\")\n",
    "print(bike.color, bike.frame_material)\n"
   ]
  },
  {
   "cell_type": "markdown",
   "metadata": {},
   "source": [
    "### Derfor er OOP bedre\n",
    "\n",
    "Klasser tilbyder en måde at gruppere data og funktionalitet sammen. Ved at bruge klasser kan komplekse systemer opdeles i håndterbare dele. I modsætning til den proceduremæssige stil, hvor data og funktioner er adskilt, gør OOP det lettere at holde styr på store softwareprojekter ved at simulere den virkelige verden mere naturligt.\n",
    "\n",
    "Dette grundlag giver dig et godt udgangspunkt for at forklare og demonstrere grundlæggende principper for objektorienteret programmering i Python i din Jupyter Notebook."
   ]
  }
 ],
 "metadata": {
  "kernelspec": {
   "display_name": ".venv",
   "language": "python",
   "name": "python3"
  },
  "language_info": {
   "codemirror_mode": {
    "name": "ipython",
    "version": 3
   },
   "file_extension": ".py",
   "mimetype": "text/x-python",
   "name": "python",
   "nbconvert_exporter": "python",
   "pygments_lexer": "ipython3",
   "version": "3.11.4"
  }
 },
 "nbformat": 4,
 "nbformat_minor": 2
}
