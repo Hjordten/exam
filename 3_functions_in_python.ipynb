{
 "cells": [
  {
   "cell_type": "markdown",
   "metadata": {},
   "source": [
    "## Functions in Python: Built-in, User-defined, and Decorators"
   ]
  },
  {
   "cell_type": "markdown",
   "metadata": {},
   "source": [
    "### Built-in Functions\n",
    "Python tilbyder mange indbyggede funktioner, som hjælper med at forenkle mange almindelige programmeringsopgaver. Her viser vi brugen af nogle af de mest nyttige indbyggede funktioner.\n",
    "\n",
    "Eksempler på anvendelse af indbyggede funktioner:"
   ]
  },
  {
   "cell_type": "code",
   "execution_count": 6,
   "metadata": {},
   "outputs": [
    {
     "name": "stdout",
     "output_type": "stream",
     "text": [
      "Hello, World!\n",
      "Printer 'længden' af listen: 5\n",
      "Printer absolut værdi af -10: 2.6\n",
      "Summerer elementerne i listen: 15\n"
     ]
    }
   ],
   "source": [
    "print(\"Hello, World!\")\n",
    "numbers = [1, 2, 3, 4, 5]\n",
    "print(\"Printer 'længden' af listen:\", len(numbers))\n",
    "print(\"Printer absolut værdi af -10:\", abs(-10))\n",
    "print(\"Summerer elementerne i listen:\", sum(numbers))\n"
   ]
  },
  {
   "cell_type": "markdown",
   "metadata": {},
   "source": [
    "### User-defined FUnctions\n",
    "\n",
    "Brugerdefinerede funktioner giver mulighed for at skabe modulær og genbrugelig kode. Her ser vi, hvordan man opretter enkle funktioner både med og uden inputargumenter, samt en funktion der anvender time modulet til at måle tidsforbrug.\n",
    "\n",
    "Eksempler på opbygning af brugerdefinerede funktioner:"
   ]
  },
  {
   "cell_type": "code",
   "execution_count": 7,
   "metadata": {},
   "outputs": [
    {
     "name": "stdout",
     "output_type": "stream",
     "text": [
      "Hello there!\n",
      "Resultat af at lægge 5 og 3 sammen: 8\n",
      "Operationen tog 2.001533031463623 sekunder\n"
     ]
    }
   ],
   "source": [
    "def greet():\n",
    "    print(\"Hello there!\")\n",
    "\n",
    "greet()\n",
    "\n",
    "def add_numbers(a, b):\n",
    "    return a + b\n",
    "\n",
    "result = add_numbers(5, 3)\n",
    "print(\"Resultat af at lægge 5 og 3 sammen:\", result)\n",
    "\n",
    "import time\n",
    "def timed_operation():\n",
    "    start = time.time()\n",
    "    time.sleep(2)\n",
    "    end = time.time()\n",
    "    return f\"Operationen tog {end - start} sekunder\"\n",
    "\n",
    "print(timed_operation())\n"
   ]
  },
  {
   "cell_type": "markdown",
   "metadata": {},
   "source": [
    "### Inner and Outer Functions\n",
    "\n",
    "Indre og ydre funktioner giver en metode til at begrænse visse funktionaliteter til en specifik kontekst. Dette kan være nyttigt for at skabe mere læsbare og vedligeholdelsesvenlige programmer.\n",
    "\n",
    "Eksempler på indre og ydre funktioner:"
   ]
  },
  {
   "cell_type": "code",
   "execution_count": 8,
   "metadata": {},
   "outputs": [
    {
     "name": "stdout",
     "output_type": "stream",
     "text": [
      "Resultat af indre funktion kaldet fra en ydre funktion: HELLO\n"
     ]
    }
   ],
   "source": [
    "def outer_function(text):\n",
    "    def inner_function():\n",
    "        return text.upper()\n",
    "    return inner_function()\n",
    "\n",
    "result = outer_function(\"hello\")\n",
    "print(\"Resultat af indre funktion kaldet fra en ydre funktion:\", result)\n"
   ]
  },
  {
   "cell_type": "markdown",
   "metadata": {},
   "source": [
    "### Decorators\n",
    "\n",
    "Decorators muliggør ændringer af en funktions adfærd ved at tilføje funktionalitet før og efter den originale funktionskald, uden at ændre selve funktionens kode.\n",
    "\n",
    "Eksempel på en decorator:"
   ]
  },
  {
   "cell_type": "code",
   "execution_count": null,
   "metadata": {},
   "outputs": [],
   "source": []
  }
 ],
 "metadata": {
  "kernelspec": {
   "display_name": ".venv",
   "language": "python",
   "name": "python3"
  },
  "language_info": {
   "codemirror_mode": {
    "name": "ipython",
    "version": 3
   },
   "file_extension": ".py",
   "mimetype": "text/x-python",
   "name": "python",
   "nbconvert_exporter": "python",
   "pygments_lexer": "ipython3",
   "version": "3.11.4"
  }
 },
 "nbformat": 4,
 "nbformat_minor": 2
}
