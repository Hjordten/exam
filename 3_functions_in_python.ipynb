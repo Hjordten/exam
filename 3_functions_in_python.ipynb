{
 "cells": [
  {
   "cell_type": "markdown",
   "metadata": {},
   "source": [
    "## Functions in Python: Built-in, User-defined, and Decorators"
   ]
  },
  {
   "cell_type": "markdown",
   "metadata": {},
   "source": [
    "### Built-in Functions\n",
    "Python tilbyder mange indbyggede funktioner, som hjælper med at forenkle mange almindelige programmeringsopgaver. Her viser vi brugen af nogle af de mest nyttige indbyggede funktioner.\n",
    "\n",
    "Eksempler på anvendelse af indbyggede funktioner:"
   ]
  },
  {
   "cell_type": "code",
   "execution_count": 7,
   "metadata": {},
   "outputs": [
    {
     "name": "stdout",
     "output_type": "stream",
     "text": [
      "Hello, World!\n",
      "Printer 'længden' af listen: 5\n",
      "Printer absolut værdi af -10: 10\n",
      "Summerer elementerne i listen: 15\n"
     ]
    }
   ],
   "source": [
    "print(\"Hello, World!\")\n",
    "numbers = [1, 2, 3, 4, 5]\n",
    "print(\"Printer 'længden' af listen:\", len(numbers))\n",
    "print(\"Printer absolut værdi af -10:\", abs(-10))\n",
    "print(\"Summerer elementerne i listen:\", sum(numbers))\n"
   ]
  },
  {
   "cell_type": "markdown",
   "metadata": {},
   "source": [
    "### User-defined FUnctions\n",
    "\n",
    "Brugerdefinerede funktioner giver mulighed for at skabe modulær og genbrugelig kode. Her ser vi, hvordan man opretter enkle funktioner både med og uden inputargumenter, samt en funktion der anvender time modulet til at måle tidsforbrug.\n",
    "\n",
    "Eksempler på opbygning af brugerdefinerede funktioner:"
   ]
  },
  {
   "cell_type": "code",
   "execution_count": 8,
   "metadata": {},
   "outputs": [
    {
     "name": "stdout",
     "output_type": "stream",
     "text": [
      "Hello there!\n",
      "Resultat af at lægge 5 og 3 sammen: 8\n",
      "Operationen tog 2.0010266304016113 sekunder\n"
     ]
    }
   ],
   "source": [
    "def greet():\n",
    "    print(\"Hello there!\")\n",
    "\n",
    "greet()\n",
    "\n",
    "def add_numbers(a, b):\n",
    "    return a + b\n",
    "\n",
    "result = add_numbers(5, 3)\n",
    "print(\"Resultat af at lægge 5 og 3 sammen:\", result)\n",
    "\n",
    "import time\n",
    "def timed_operation():\n",
    "    start = time.time()\n",
    "    time.sleep(2)\n",
    "    end = time.time()\n",
    "    return f\"Operationen tog {end - start} sekunder\"\n",
    "\n",
    "print(timed_operation())\n"
   ]
  },
  {
   "cell_type": "markdown",
   "metadata": {},
   "source": [
    "### Inner and Outer Functions\n",
    "\n",
    "Indre og ydre funktioner giver en metode til at begrænse visse funktionaliteter til en specifik kontekst. Dette kan være nyttigt for at skabe mere læsbare og vedligeholdelsesvenlige programmer.\n",
    "\n",
    "Eksempler på indre og ydre funktioner:"
   ]
  },
  {
   "cell_type": "code",
   "execution_count": 9,
   "metadata": {},
   "outputs": [
    {
     "name": "stdout",
     "output_type": "stream",
     "text": [
      "Resultat af indre funktion kaldet fra en ydre funktion: HELLO\n"
     ]
    }
   ],
   "source": [
    "def outer_function(text):\n",
    "    def inner_function():\n",
    "        return text.upper()\n",
    "    return inner_function()\n",
    "\n",
    "result = outer_function(\"hello\")\n",
    "print(\"Resultat af indre funktion kaldet fra en ydre funktion:\", result)\n"
   ]
  },
  {
   "cell_type": "markdown",
   "metadata": {},
   "source": [
    "### Decorators\n",
    "\n",
    "Decorators ændrer en funktions adfærd ved at tilføje funktionalitet før og efter det oprindelige funktionskald, uden at ændre selve funktionens kode. Dette er nyttigt for at tilføje fælles funktionalitet (som logging, timing, etc.) til flere funktioner på en tør og konsistent måde.\n",
    "\n",
    "Eksempel på en brugerdefineret decorator:"
   ]
  },
  {
   "cell_type": "code",
   "execution_count": 10,
   "metadata": {},
   "outputs": [
    {
     "name": "stdout",
     "output_type": "stream",
     "text": [
      "Noget sker før funktionen bliver kaldt.\n",
      "Hello!\n",
      "Noget sker efter funktionen er blevet kaldt.\n"
     ]
    }
   ],
   "source": [
    "def my_decorator(func):\n",
    "    def wrapper():\n",
    "        print(\"Noget sker før funktionen bliver kaldt.\")\n",
    "        func()\n",
    "        print(\"Noget sker efter funktionen er blevet kaldt.\")\n",
    "    return wrapper\n",
    "\n",
    "@my_decorator\n",
    "def say_hello():\n",
    "    print(\"Hello!\")\n",
    "\n",
    "say_hello()"
   ]
  },
  {
   "cell_type": "markdown",
   "metadata": {},
   "source": [
    "#### @staticmethod\n",
    "\n",
    "Den @staticmethod decorator bruges til at definere metoder i en klasse, der ikke opererer på en instans af klassen og derfor ikke modtager self som en parameter. Disse metoder kan kaldes direkte på klassen."
   ]
  },
  {
   "cell_type": "code",
   "execution_count": 16,
   "metadata": {},
   "outputs": [
    {
     "name": "stdout",
     "output_type": "stream",
     "text": [
      "Summen af 5 og 3: 8\n"
     ]
    },
    {
     "data": {
      "text/plain": [
       "3"
      ]
     },
     "execution_count": 16,
     "metadata": {},
     "output_type": "execute_result"
    }
   ],
   "source": [
    "class MathOperations:\n",
    "    @staticmethod\n",
    "    def add(x, y):\n",
    "        return x + y\n",
    "\n",
    "print(\"Summen af 5 og 3:\", MathOperations.add(5, 3))\n",
    "\n",
    "test_class = MathOperations()\n",
    "\n",
    "MathOperations.add(1,2)\n"
   ]
  },
  {
   "cell_type": "markdown",
   "metadata": {},
   "source": [
    "#### @classmethod\n",
    "\n",
    "Den @classmethod decorator gør det muligt for en metode at modtage klassen som den første parameter snarere end en instans af klassen. Dette er nyttigt for fabriksmetoder, der skal skabe instanser af klassen med specifikke parametre."
   ]
  },
  {
   "cell_type": "code",
   "execution_count": 12,
   "metadata": {},
   "outputs": [
    {
     "name": "stdout",
     "output_type": "stream",
     "text": [
      "Navnet på personen er: Anonymous\n"
     ]
    }
   ],
   "source": [
    "class Person:\n",
    "    species = \"Homo sapiens\"\n",
    "\n",
    "    def __init__(self, name):\n",
    "        self.name = name\n",
    "\n",
    "    @classmethod\n",
    "    def create_anonymous(cls):\n",
    "        return cls(\"Anonymous\")\n",
    "\n",
    "anonymous_person = Person.create_anonymous()\n",
    "print(\"Navnet på personen er:\", anonymous_person.name)"
   ]
  },
  {
   "cell_type": "markdown",
   "metadata": {},
   "source": [
    "## @repeat\n",
    "\n",
    "@repeat gentager en funktion x antal gange"
   ]
  },
  {
   "cell_type": "code",
   "execution_count": 17,
   "metadata": {},
   "outputs": [
    {
     "name": "stdout",
     "output_type": "stream",
     "text": [
      "Hello Alice\n",
      "Hello Alice\n",
      "Hello Alice\n"
     ]
    }
   ],
   "source": [
    "def repeat(num_times):\n",
    "    def decorator_repeat(func):\n",
    "        def wrapper(*args, **kwargs):\n",
    "            for _ in range(num_times):\n",
    "                result = func(*args, **kwargs)\n",
    "            return result\n",
    "        return wrapper\n",
    "    return decorator_repeat\n",
    "\n",
    "@repeat(num_times=3)\n",
    "def greet(name):\n",
    "    print(f\"Hello {name}\")\n",
    "\n",
    "greet(\"Alice\")\n"
   ]
  },
  {
   "cell_type": "markdown",
   "metadata": {},
   "source": [
    "### @timer\n",
    "\n",
    "@timer angiver hvor lang tid en funktion tager"
   ]
  },
  {
   "cell_type": "code",
   "execution_count": 40,
   "metadata": {},
   "outputs": [
    {
     "name": "stdout",
     "output_type": "stream",
     "text": [
      "Executing long_running_function took 2.0010 seconds\n",
      "None\n",
      "-------------------------------------------------------------------------------------------------------------------------------------\n",
      "add returned value 5\n",
      "5\n",
      "-------------------------------------------------------------------------------------------------------------------------------------\n",
      "multiply returned value 50\n",
      "Executing wrapper took 0.0000 seconds\n",
      "50\n"
     ]
    }
   ],
   "source": [
    "import time\n",
    "\n",
    "def timer(func):\n",
    "    def wrapper(*args, **kwargs):\n",
    "        start_time = time.time()\n",
    "        result = func(*args, **kwargs)\n",
    "        end_time = time.time()\n",
    "        print(f\"Executing {func.__name__} took {end_time - start_time:.4f} seconds\")\n",
    "        return result\n",
    "    return wrapper\n",
    "\n",
    "@timer\n",
    "def long_running_function():\n",
    "    time.sleep(2)\n",
    "\n",
    "print(long_running_function())\n",
    "\n",
    "print(\"-------------------------------------------------------------------------------------------------------------------------------------\")\n",
    "\n",
    "def logger(func):\n",
    "    def wrapper(*args, **kwargs):\n",
    "        result = func(*args, **kwargs)\n",
    "        print(f\"{func.__name__} returned value {result}\")\n",
    "        return result\n",
    "    return wrapper\n",
    "\n",
    "@logger\n",
    "def add(a, b):\n",
    "    return a + b\n",
    "\n",
    "print(add(2, 3))\n",
    "\n",
    "print(\"-------------------------------------------------------------------------------------------------------------------------------------\")\n",
    "\n",
    "@timer\n",
    "@logger\n",
    "def multiply(a, b):\n",
    "    return a * b\n",
    "\n",
    "print(multiply(10, 5))\n"
   ]
  },
  {
   "cell_type": "code",
   "execution_count": 25,
   "metadata": {},
   "outputs": [
    {
     "name": "stdout",
     "output_type": "stream",
     "text": [
      "add returned value 5\n",
      "5\n"
     ]
    }
   ],
   "source": []
  },
  {
   "cell_type": "code",
   "execution_count": 26,
   "metadata": {},
   "outputs": [
    {
     "ename": "NameError",
     "evalue": "name 'timer' is not defined",
     "output_type": "error",
     "traceback": [
      "\u001b[1;31m---------------------------------------------------------------------------\u001b[0m",
      "\u001b[1;31mNameError\u001b[0m                                 Traceback (most recent call last)",
      "Cell \u001b[1;32mIn[26], line 1\u001b[0m\n\u001b[1;32m----> 1\u001b[0m \u001b[38;5;129m@timer\u001b[39m\n\u001b[0;32m      2\u001b[0m \u001b[38;5;129m@logger\u001b[39m\n\u001b[0;32m      3\u001b[0m \u001b[38;5;28;01mdef\u001b[39;00m \u001b[38;5;21mmultiply\u001b[39m(a, b):\n\u001b[0;32m      4\u001b[0m     \u001b[38;5;28;01mreturn\u001b[39;00m a \u001b[38;5;241m*\u001b[39m b\n\u001b[0;32m      6\u001b[0m \u001b[38;5;28mprint\u001b[39m(multiply(\u001b[38;5;241m10\u001b[39m, \u001b[38;5;241m5\u001b[39m))\n",
      "\u001b[1;31mNameError\u001b[0m: name 'timer' is not defined"
     ]
    }
   ],
   "source": []
  }
 ],
 "metadata": {
  "kernelspec": {
   "display_name": ".venv",
   "language": "python",
   "name": "python3"
  },
  "language_info": {
   "codemirror_mode": {
    "name": "ipython",
    "version": 3
   },
   "file_extension": ".py",
   "mimetype": "text/x-python",
   "name": "python",
   "nbconvert_exporter": "python",
   "pygments_lexer": "ipython3",
   "version": "3.11.4"
  }
 },
 "nbformat": 4,
 "nbformat_minor": 2
}
