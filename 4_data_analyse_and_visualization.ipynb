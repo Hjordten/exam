{
 "cells": [
  {
   "cell_type": "code",
   "execution_count": null,
   "metadata": {},
   "outputs": [],
   "source": [
    "%pip install numpy\n",
    "%pip install pandas\n",
    "%pip install matplotlib"
   ]
  },
  {
   "cell_type": "markdown",
   "metadata": {},
   "source": [
    "### Step 1: Loading Data with pandas\n",
    "\n",
    "Først vil vi indlæse vores datasæt ved hjælp af pandas, som giver en effektiv og intuitiv ramme til håndtering af tabulære data."
   ]
  },
  {
   "cell_type": "code",
   "execution_count": null,
   "metadata": {},
   "outputs": [],
   "source": [
    "import pandas as pd\n",
    "\n",
    "# Indlæse data fra en CSV-fil\n",
    "data = pd.read_csv('sales_data.csv')\n",
    "print(data)"
   ]
  },
  {
   "cell_type": "markdown",
   "metadata": {},
   "source": [
    "### Step 2: Data Analysis with pandas\n",
    "\n",
    "Herefter vil vi udføre nogle grundlæggende dataanalyser, som at beregne totalt salg og gennemsnitspris."
   ]
  },
  {
   "cell_type": "code",
   "execution_count": 29,
   "metadata": {},
   "outputs": [
    {
     "name": "stdout",
     "output_type": "stream",
     "text": [
      "Total sales for each product:\n",
      "      Product  Total Sales\n",
      "0  Product A          300\n",
      "1  Product B         1200\n",
      "2  Product C         1350\n",
      "3  Product D         1000\n",
      "Average price of products: 35.0\n"
     ]
    }
   ],
   "source": [
    "# Beregn totalt salg\n",
    "data['Total Sales'] = data['Price'] * data['Units Sold']\n",
    "print(\"Total sales for each product:\\n\", data[['Product', 'Total Sales']])\n",
    "\n",
    "# Beregn gennemsnitsprisen\n",
    "average_price = data['Price'].mean()\n",
    "print(\"Average price of products:\", average_price)\n"
   ]
  },
  {
   "cell_type": "markdown",
   "metadata": {},
   "source": [
    "### Step 3: Visualization with Matplotlib\n",
    "\n",
    "Endelig vil vi visualisere disse data ved hjælp af Matplotlib for at vise salget og antallet af solgte enheder."
   ]
  },
  {
   "cell_type": "code",
   "execution_count": null,
   "metadata": {},
   "outputs": [],
   "source": [
    "import matplotlib.pyplot as plt\n",
    "\n",
    "# Oprette et stolpediagram for salget\n",
    "plt.figure(figsize=(10, 5))\n",
    "plt.bar(data['Product'], data['Total Sales'], color='blue')\n",
    "plt.title('Total Sales per Product')\n",
    "plt.xlabel('Product')\n",
    "plt.ylabel('Total Sales')\n",
    "plt.show()\n",
    "\n",
    "# Oprette et cirkeldiagram for andelen af solgte enheder\n",
    "plt.figure(figsize=(7, 7))\n",
    "plt.pie(data['Units Sold'], labels=data['Product'], autopct='%1.1f%%')\n",
    "plt.title('Percentage of Units Sold by Product')\n",
    "plt.show()\n"
   ]
  },
  {
   "cell_type": "markdown",
   "metadata": {},
   "source": [
    "### Step 4: Sammenligning af Salg og Units Sold med Stacked Bar Chart\n",
    "Dette eksempel kombinerer information om salg og antal solgte enheder i et enkelt visualiseringslag."
   ]
  },
  {
   "cell_type": "code",
   "execution_count": null,
   "metadata": {},
   "outputs": [],
   "source": [
    "# Tilføj en ny kolonne for total salg\n",
    "data['Total Sales'] = data['Price'] * data['Units Sold']\n",
    "\n",
    "# Stacked bar chart\n",
    "plt.figure(figsize=(10, 6))\n",
    "plt.bar(data['Product'], data['Units Sold'], label='Units Sold')\n",
    "plt.bar(data['Product'], data['Total Sales'], bottom=data['Units Sold'], label='Total Sales', alpha=0.7)\n",
    "plt.title('Comparison of Units Sold and Total Sales per Product')\n",
    "plt.xlabel('Product')\n",
    "plt.ylabel('Units and Total Sales')\n",
    "plt.legend()\n",
    "plt.show()\n"
   ]
  },
  {
   "cell_type": "code",
   "execution_count": 34,
   "metadata": {},
   "outputs": [
    {
     "name": "stdout",
     "output_type": "stream",
     "text": [
      "--------------------------------------------------------------------------------------------\n",
      "Total sales for each product:\n",
      "      Product  Total Sales\n",
      "0  Product A          300\n",
      "1  Product B         1200\n",
      "2  Product C         1350\n",
      "3  Product D         1000\n",
      "--------------------------------------------------------------------------------------------\n",
      "Average price of products: 35.0\n",
      "--------------------------------------------------------------------------------------------\n",
      "Maximum sales amount: 1350\n",
      "Minimum sales amount: 300\n",
      "--------------------------------------------------------------------------------------------\n",
      "Total revenue from all products: 3850\n",
      "--------------------------------------------------------------------------------------------\n",
      "Total sales per category:\n",
      " Category\n",
      "Clothing       1200\n",
      "Electronics    1650\n",
      "Home Goods     1000\n",
      "Name: Total Sales, dtype: int64\n",
      "--------------------------------------------------------------------------------------------\n",
      "Average profit margin per category:\n",
      " Category\n",
      "Clothing       0.450\n",
      "Electronics    0.275\n",
      "Home Goods     0.500\n",
      "Name: Profit Margin, dtype: float64\n",
      "--------------------------------------------------------------------------------------------\n",
      "Total units sold per category:\n",
      " Category\n",
      "Clothing       30\n",
      "Electronics    60\n",
      "Home Goods     20\n",
      "Name: Units Sold, dtype: int64\n",
      "--------------------------------------------------------------------------------------------\n",
      "Best selling product details:\n",
      " Product            Product C\n",
      "Category         Electronics\n",
      "Price                     30\n",
      "Units Sold                45\n",
      "Profit Margin           0.25\n",
      "Total Sales             1350\n",
      "Name: 2, dtype: object\n"
     ]
    }
   ],
   "source": [
    "import pandas as pd\n",
    "\n",
    "# Indlæse data\n",
    "data = pd.read_csv('sales_data.csv')\n",
    "\n",
    "print(\"--------------------------------------------------------------------------------------------\")\n",
    "\n",
    "# Beregn totalt salg\n",
    "data['Total Sales'] = data['Price'] * data['Units Sold']\n",
    "print(\"Total sales for each product:\\n\", data[['Product', 'Total Sales']])\n",
    "\n",
    "print(\"--------------------------------------------------------------------------------------------\")\n",
    "\n",
    "# Beregn gennemsnitsprisen\n",
    "average_price = data['Price'].mean()\n",
    "print(\"Average price of products:\", average_price)\n",
    "\n",
    "print(\"--------------------------------------------------------------------------------------------\")\n",
    "\n",
    "# Beregn maksimum og minimum salg\n",
    "max_sales = data['Total Sales'].max()\n",
    "min_sales = data['Total Sales'].min()\n",
    "print(\"Maximum sales amount:\", max_sales)\n",
    "print(\"Minimum sales amount:\", min_sales)\n",
    "\n",
    "print(\"--------------------------------------------------------------------------------------------\")\n",
    "\n",
    "# Beregn den samlede indkomst\n",
    "total_revenue = data['Total Sales'].sum()\n",
    "print(\"Total revenue from all products:\", total_revenue)\n",
    "\n",
    "print(\"--------------------------------------------------------------------------------------------\")\n",
    "\n",
    "# Beregn salg pr. kategori\n",
    "sales_per_category = data.groupby('Category')['Total Sales'].sum()\n",
    "print(\"Total sales per category:\\n\", sales_per_category)\n",
    "\n",
    "print(\"--------------------------------------------------------------------------------------------\")\n",
    "\n",
    "# Beregn gennemsnitlig profit margin pr. kategori\n",
    "average_profit_margin_per_category = data.groupby('Category')['Profit Margin'].mean()\n",
    "print(\"Average profit margin per category:\\n\", average_profit_margin_per_category)\n",
    "\n",
    "print(\"--------------------------------------------------------------------------------------------\")\n",
    "\n",
    "# Beregn antal solgte enheder pr. kategori\n",
    "units_sold_per_category = data.groupby('Category')['Units Sold'].sum()\n",
    "print(\"Total units sold per category:\\n\", units_sold_per_category)\n",
    "\n",
    "print(\"--------------------------------------------------------------------------------------------\")\n",
    "\n",
    "# Identificer det bedst sælgende produkt\n",
    "best_selling_product = data.loc[data['Units Sold'].idxmax()]\n",
    "print(\"Best selling product details:\\n\", best_selling_product)\n"
   ]
  }
 ],
 "metadata": {
  "kernelspec": {
   "display_name": ".venv",
   "language": "python",
   "name": "python3"
  },
  "language_info": {
   "codemirror_mode": {
    "name": "ipython",
    "version": 3
   },
   "file_extension": ".py",
   "mimetype": "text/x-python",
   "name": "python",
   "nbconvert_exporter": "python",
   "pygments_lexer": "ipython3",
   "version": "3.11.4"
  }
 },
 "nbformat": 4,
 "nbformat_minor": 2
}
